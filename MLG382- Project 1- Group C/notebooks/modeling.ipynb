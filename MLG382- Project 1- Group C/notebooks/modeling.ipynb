{
 "cells": [
  {
   "cell_type": "code",
   "execution_count": 20,
   "metadata": {},
   "outputs": [
    {
     "name": "stdout",
     "output_type": "stream",
     "text": [
      "    0    1    2    3    4    5    6    7    8    9   ...   16   17   18   19  \\\n",
      "0  0.0  1.0  0.0  0.0  1.0  0.0  0.0  1.0  0.0  0.0  ...  0.0  0.0  1.0  1.0   \n",
      "1  0.0  1.0  0.0  0.0  1.0  0.0  1.0  0.0  0.0  0.0  ...  0.0  0.0  1.0  0.0   \n",
      "2  0.0  1.0  0.0  0.0  1.0  0.0  1.0  0.0  0.0  0.0  ...  0.0  0.0  1.0  0.0   \n",
      "3  0.0  1.0  0.0  1.0  0.0  0.0  1.0  0.0  0.0  0.0  ...  0.0  0.0  1.0  0.0   \n",
      "4  0.0  1.0  0.0  0.0  1.0  0.0  0.0  0.0  1.0  0.0  ...  0.0  0.0  1.0  0.0   \n",
      "\n",
      "    20   21    22      23     24     25  \n",
      "0  0.0  0.0  4583  1508.0  128.0  360.0  \n",
      "1  0.0  1.0  3000     0.0   66.0  360.0  \n",
      "2  0.0  1.0  2583  2358.0  120.0  360.0  \n",
      "3  0.0  1.0  6000     0.0  141.0  360.0  \n",
      "4  0.0  1.0  5417  4196.0  267.0  360.0  \n",
      "\n",
      "[5 rows x 26 columns]\n"
     ]
    }
   ],
   "source": [
    "# Importing the libraries\n",
    "import numpy as np\n",
    "import pandas as pd\n",
    "import matplotlib.pyplot as plt\n",
    "\n",
    "# Importing the dataset\n",
    "dataset = pd.read_csv('../data/raw_data.csv')\n",
    "\n",
    "dataset.dropna(subset=['LoanAmount'], inplace=True)\n",
    "\n",
    "X = dataset.iloc[:, 1: -1].values\n",
    "y = dataset.iloc[:, -1].values\n",
    "\n",
    "# Taking care of missing data\n",
    "dataset.isnull().sum()\n",
    "\n",
    "# Fill in missing data of all our categorical values\n",
    "dataset['Gender'] = dataset['Gender'].fillna(dataset['Gender'].mode()[0])\n",
    "dataset['Married']=dataset['Married'].fillna(dataset['Married'].mode()[0])\n",
    "dataset['Dependents']=dataset['Dependents'].fillna(dataset['Dependents'].mode()[0])\n",
    "dataset['Self_Employed']=dataset['Self_Employed'].fillna(dataset['Self_Employed'].mode()[0])\n",
    "\n",
    "# Fill in missing data of all our numerical values\n",
    "from sklearn.impute import SimpleImputer\n",
    "imputer = SimpleImputer(missing_values=np.nan, strategy='mean')\n",
    "imputer.fit(X[:, 7:10])\n",
    "X[:, 7:10] = imputer.transform(X[:, 7:10])\n",
    "\n",
    "df = pd.DataFrame(X)\n",
    "\n",
    "# Encoding categorical data\n",
    "# Encoding the Independent Variable\n",
    "# Use one hot encoder\n",
    "from sklearn.compose import ColumnTransformer\n",
    "from sklearn.preprocessing import OneHotEncoder\n",
    "columns_to_encode = [0, 1, 2, 3, 4, 9, 10]\n",
    "ct = ColumnTransformer(transformers=[('encoder', OneHotEncoder(), columns_to_encode)], remainder='passthrough')\n",
    "X = ct.fit_transform(X)\n",
    "print(pd.DataFrame(X).head())\n",
    "\n",
    "# Encoding the Dependent Variable\n",
    "from sklearn.preprocessing import LabelEncoder\n",
    "le = LabelEncoder()\n",
    "y = le.fit_transform(y)\n",
    "\n",
    "# Splitting the dataset into the Training set and Test set\n",
    "from sklearn.model_selection import train_test_split\n",
    "X_train, X_test, y_train, y_test = train_test_split(X, y, test_size=0.2, random_state=1)"
   ]
  }
 ],
 "metadata": {
  "kernelspec": {
   "display_name": "base",
   "language": "python",
   "name": "python3"
  },
  "language_info": {
   "codemirror_mode": {
    "name": "ipython",
    "version": 3
   },
   "file_extension": ".py",
   "mimetype": "text/x-python",
   "name": "python",
   "nbconvert_exporter": "python",
   "pygments_lexer": "ipython3",
   "version": "3.11.7"
  }
 },
 "nbformat": 4,
 "nbformat_minor": 2
}
